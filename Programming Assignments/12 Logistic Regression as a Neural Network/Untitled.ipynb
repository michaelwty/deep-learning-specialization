{
 "cells": [
  {
   "cell_type": "code",
   "execution_count": 2,
   "metadata": {},
   "outputs": [
    {
     "ename": "ModuleNotFoundError",
     "evalue": "No module named 'urllib2'",
     "output_type": "error",
     "traceback": [
      "\u001b[1;31m---------------------------------------------------------------------------\u001b[0m",
      "\u001b[1;31mModuleNotFoundError\u001b[0m                       Traceback (most recent call last)",
      "\u001b[1;32m<ipython-input-2-d7e0470df2ef>\u001b[0m in \u001b[0;36m<module>\u001b[1;34m\u001b[0m\n\u001b[0;32m      1\u001b[0m \u001b[1;31m#!/usr/bin/python\u001b[0m\u001b[1;33m\u001b[0m\u001b[1;33m\u001b[0m\u001b[1;33m\u001b[0m\u001b[0m\n\u001b[1;32m----> 2\u001b[1;33m \u001b[1;32mimport\u001b[0m \u001b[0murllib2\u001b[0m\u001b[1;33m\u001b[0m\u001b[1;33m\u001b[0m\u001b[0m\n\u001b[0m\u001b[0;32m      3\u001b[0m \u001b[1;32mfrom\u001b[0m \u001b[0mcookielib\u001b[0m \u001b[1;32mimport\u001b[0m \u001b[0mCookieJar\u001b[0m\u001b[1;33m\u001b[0m\u001b[1;33m\u001b[0m\u001b[0m\n\u001b[0;32m      4\u001b[0m \u001b[1;33m\u001b[0m\u001b[0m\n\u001b[0;32m      5\u001b[0m \u001b[1;31m#===============================================================================\u001b[0m\u001b[1;33m\u001b[0m\u001b[1;33m\u001b[0m\u001b[1;33m\u001b[0m\u001b[0m\n",
      "\u001b[1;31mModuleNotFoundError\u001b[0m: No module named 'urllib2'"
     ]
    }
   ],
   "source": [
    "#!/usr/bin/python\n",
    "import urllib2\n",
    "from cookielib import CookieJar\n",
    "\n",
    "#===============================================================================\n",
    "# The following code block is used for authentication for HTTPS server\n",
    "#===============================================================================\n",
    "\n",
    "# The user credentials that will be used to authenticate access to the data\n",
    "username = \"wty1009\"\n",
    "password = \"159357wtyWTY\"\n",
    "\n",
    "# The FULL url of the file we wish to retrieve\n",
    "url = \"https://daacdata.apps.nsidc.org/pub/DATASETS/nsidc0192_seaice_trends_climo_v2/total-ice-area-extent/nasateam/gsfc.nasateam.daily.extent.1978-2015.s\" # Example URL\n",
    "\n",
    "# Strip the filename from the URL\n",
    "file_name = url.split('/')[-1]\n",
    "\n",
    "# Create a password manager to deal with the 401 reponse that is returned from\n",
    "# Earthdata Login\n",
    " \n",
    "password_manager = urllib2.HTTPPasswordMgrWithDefaultRealm()\n",
    "password_manager.add_password(None, \"https://urs.earthdata.nasa.gov\", username, password)\n",
    " \n",
    "# Create a cookie jar for storing cookies. This is used to store and return\n",
    "# the session cookie given to use by the data server (otherwise it will just\n",
    "# keep sending us back to Earthdata Login to authenticate).  Ideally, we\n",
    "# should use a file based cookie jar to preserve cookies between runs. This\n",
    "# will make it much more efficient.\n",
    " \n",
    "cookie_jar = CookieJar()\n",
    "\n",
    "# Install all the handlers.\n",
    "opener = urllib2.build_opener(\n",
    "    urllib2.HTTPBasicAuthHandler(password_manager),\n",
    "    #urllib2.HTTPHandler(debuglevel=1),    # Uncomment these two lines to see\n",
    "    #urllib2.HTTPSHandler(debuglevel=1),   # details of the requests/responses\n",
    "    urllib2.HTTPCookieProcessor(cookie_jar))\n",
    "urllib2.install_opener(opener)\n",
    " \n",
    "# Create and submit the requests. There are a wide range of exceptions that\n",
    "# can be thrown here, including HTTPError and URLError. These should be\n",
    "# caught and handled.\n",
    "\n",
    "#===============================================================================\n",
    "# Open a request for the data, and download a specific file\n",
    "#===============================================================================\n",
    "\n",
    "DataRequest = urllib2.Request(url)\n",
    "DataRequest.add_header('cookie', cookie_jar) # Pass the saved cookie into a second HTTP request\n",
    "DataResponse = urllib2.urlopen(DataRequest)\n",
    "\n",
    "# Get the redirect url and append 'app_type=401'\n",
    "# to do basic http auth\n",
    "DataRedirect_url = DataResponse.geturl()\n",
    "DataRedirect_url += '&app_type=401'\n",
    "\n",
    "# Request the resource at the modified redirect url\n",
    "DataRequest = urllib2.Request(DataRedirect_url)\n",
    "DataResponse = urllib2.urlopen(DataRequest)\n",
    "\n",
    "# Print out the result (not a good idea with binary data!)\n",
    "DataBody = DataResponse.read(DataResponse)\n",
    "\n",
    "# Save file to working directory\n",
    "file_ = open(file_name, 'wb')\n",
    "file_.write(DataBody)\n",
    "file_.close()\n",
    "\n",
    "print ( \"Your file, \" + file_name + \" has downloaded to \" + os.path.dirname(os.path.realpath(__file__)) )"
   ]
  },
  {
   "cell_type": "code",
   "execution_count": null,
   "metadata": {},
   "outputs": [],
   "source": []
  }
 ],
 "metadata": {
  "kernelspec": {
   "display_name": "Python 3",
   "language": "python",
   "name": "python3"
  },
  "language_info": {
   "codemirror_mode": {
    "name": "ipython",
    "version": 3
   },
   "file_extension": ".py",
   "mimetype": "text/x-python",
   "name": "python",
   "nbconvert_exporter": "python",
   "pygments_lexer": "ipython3",
   "version": "3.7.1"
  }
 },
 "nbformat": 4,
 "nbformat_minor": 2
}
